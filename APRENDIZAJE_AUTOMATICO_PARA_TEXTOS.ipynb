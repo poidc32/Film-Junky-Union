{
 "cells": [
  {
   "cell_type": "markdown",
   "metadata": {},
   "source": [
    "# Descripcipción del proyecto"
   ]
  },
  {
   "cell_type": "markdown",
   "metadata": {},
   "source": [
    "Film Junky Union, una nueva comunidad vanguardista para los aficionados de las películas clásicas, está desarrollando un sistema para filtrar y categorizar reseñas de películas. Tu objetivo es entrenar un modelo para detectar las críticas negativas de forma automática. Para lograrlo, utilizarás un conjunto de datos de reseñas de películas de IMDB con leyendas de polaridad para construir un modelo para clasificar las reseñas positivas y negativas. Este deberá alcanzar un valor F1 de al menos 0.85."
   ]
  },
  {
   "cell_type": "markdown",
   "metadata": {},
   "source": [
    "## Inicialización"
   ]
  },
  {
   "cell_type": "code",
   "execution_count": 1,
   "metadata": {},
   "outputs": [],
   "source": [
    "import math\n",
    "import string\n",
    "import nltk\n",
    "from nltk.tokenize import word_tokenize\n",
    "from nltk.corpus import stopwords\n",
    "from nltk.stem import WordNetLemmatizer\n",
    "\n",
    "import numpy as np\n",
    "import pandas as pd\n",
    "\n",
    "import matplotlib\n",
    "import matplotlib.pyplot as plt\n",
    "import matplotlib.dates as mdates\n",
    "import seaborn as sns\n",
    "\n",
    "from tqdm.auto import tqdm"
   ]
  },
  {
   "cell_type": "code",
   "execution_count": 2,
   "metadata": {},
   "outputs": [],
   "source": [
    "%matplotlib inline\n",
    "%config InlineBackend.figure_format = 'png'\n",
    "# la siguiente línea proporciona gráficos de mejor calidad en pantallas HiDPI\n",
    "# %config InlineBackend.figure_format = 'retina'\n",
    "\n",
    "plt.style.use('seaborn')"
   ]
  },
  {
   "cell_type": "code",
   "execution_count": 3,
   "metadata": {},
   "outputs": [],
   "source": [
    "# esto es para usar progress_apply, puedes leer más en https://pypi.org/project/tqdm/#pandas-integration\n",
    "tqdm.pandas()"
   ]
  },
  {
   "cell_type": "markdown",
   "metadata": {},
   "source": [
    "## Cargar datos"
   ]
  },
  {
   "cell_type": "code",
   "execution_count": 4,
   "metadata": {},
   "outputs": [],
   "source": [
    "df_reviews = pd.read_csv('/datasets/imdb_reviews.tsv', sep='\\t', dtype={'votes': 'Int64'})"
   ]
  },
  {
   "cell_type": "code",
   "execution_count": 5,
   "metadata": {},
   "outputs": [
    {
     "data": {
      "text/html": [
       "<div>\n",
       "<style scoped>\n",
       "    .dataframe tbody tr th:only-of-type {\n",
       "        vertical-align: middle;\n",
       "    }\n",
       "\n",
       "    .dataframe tbody tr th {\n",
       "        vertical-align: top;\n",
       "    }\n",
       "\n",
       "    .dataframe thead th {\n",
       "        text-align: right;\n",
       "    }\n",
       "</style>\n",
       "<table border=\"1\" class=\"dataframe\">\n",
       "  <thead>\n",
       "    <tr style=\"text-align: right;\">\n",
       "      <th></th>\n",
       "      <th>tconst</th>\n",
       "      <th>title_type</th>\n",
       "      <th>primary_title</th>\n",
       "      <th>original_title</th>\n",
       "      <th>start_year</th>\n",
       "      <th>end_year</th>\n",
       "      <th>runtime_minutes</th>\n",
       "      <th>is_adult</th>\n",
       "      <th>genres</th>\n",
       "      <th>average_rating</th>\n",
       "      <th>votes</th>\n",
       "      <th>review</th>\n",
       "      <th>rating</th>\n",
       "      <th>sp</th>\n",
       "      <th>pos</th>\n",
       "      <th>ds_part</th>\n",
       "      <th>idx</th>\n",
       "    </tr>\n",
       "  </thead>\n",
       "  <tbody>\n",
       "    <tr>\n",
       "      <th>0</th>\n",
       "      <td>tt0068152</td>\n",
       "      <td>movie</td>\n",
       "      <td>$</td>\n",
       "      <td>$</td>\n",
       "      <td>1971</td>\n",
       "      <td>\\N</td>\n",
       "      <td>121</td>\n",
       "      <td>0</td>\n",
       "      <td>Comedy,Crime,Drama</td>\n",
       "      <td>6.3</td>\n",
       "      <td>2218</td>\n",
       "      <td>The pakage implies that Warren Beatty and Gold...</td>\n",
       "      <td>1</td>\n",
       "      <td>neg</td>\n",
       "      <td>0</td>\n",
       "      <td>train</td>\n",
       "      <td>8335</td>\n",
       "    </tr>\n",
       "    <tr>\n",
       "      <th>1</th>\n",
       "      <td>tt0068152</td>\n",
       "      <td>movie</td>\n",
       "      <td>$</td>\n",
       "      <td>$</td>\n",
       "      <td>1971</td>\n",
       "      <td>\\N</td>\n",
       "      <td>121</td>\n",
       "      <td>0</td>\n",
       "      <td>Comedy,Crime,Drama</td>\n",
       "      <td>6.3</td>\n",
       "      <td>2218</td>\n",
       "      <td>How the hell did they get this made?! Presenti...</td>\n",
       "      <td>1</td>\n",
       "      <td>neg</td>\n",
       "      <td>0</td>\n",
       "      <td>train</td>\n",
       "      <td>8336</td>\n",
       "    </tr>\n",
       "    <tr>\n",
       "      <th>2</th>\n",
       "      <td>tt0313150</td>\n",
       "      <td>short</td>\n",
       "      <td>'15'</td>\n",
       "      <td>'15'</td>\n",
       "      <td>2002</td>\n",
       "      <td>\\N</td>\n",
       "      <td>25</td>\n",
       "      <td>0</td>\n",
       "      <td>Comedy,Drama,Short</td>\n",
       "      <td>6.3</td>\n",
       "      <td>184</td>\n",
       "      <td>There is no real story the film seems more lik...</td>\n",
       "      <td>3</td>\n",
       "      <td>neg</td>\n",
       "      <td>0</td>\n",
       "      <td>test</td>\n",
       "      <td>2489</td>\n",
       "    </tr>\n",
       "    <tr>\n",
       "      <th>3</th>\n",
       "      <td>tt0313150</td>\n",
       "      <td>short</td>\n",
       "      <td>'15'</td>\n",
       "      <td>'15'</td>\n",
       "      <td>2002</td>\n",
       "      <td>\\N</td>\n",
       "      <td>25</td>\n",
       "      <td>0</td>\n",
       "      <td>Comedy,Drama,Short</td>\n",
       "      <td>6.3</td>\n",
       "      <td>184</td>\n",
       "      <td>Um .... a serious film about troubled teens in...</td>\n",
       "      <td>7</td>\n",
       "      <td>pos</td>\n",
       "      <td>1</td>\n",
       "      <td>test</td>\n",
       "      <td>9280</td>\n",
       "    </tr>\n",
       "    <tr>\n",
       "      <th>4</th>\n",
       "      <td>tt0313150</td>\n",
       "      <td>short</td>\n",
       "      <td>'15'</td>\n",
       "      <td>'15'</td>\n",
       "      <td>2002</td>\n",
       "      <td>\\N</td>\n",
       "      <td>25</td>\n",
       "      <td>0</td>\n",
       "      <td>Comedy,Drama,Short</td>\n",
       "      <td>6.3</td>\n",
       "      <td>184</td>\n",
       "      <td>I'm totally agree with GarryJohal from Singapo...</td>\n",
       "      <td>9</td>\n",
       "      <td>pos</td>\n",
       "      <td>1</td>\n",
       "      <td>test</td>\n",
       "      <td>9281</td>\n",
       "    </tr>\n",
       "  </tbody>\n",
       "</table>\n",
       "</div>"
      ],
      "text/plain": [
       "      tconst title_type primary_title original_title  start_year end_year  \\\n",
       "0  tt0068152      movie             $              $        1971       \\N   \n",
       "1  tt0068152      movie             $              $        1971       \\N   \n",
       "2  tt0313150      short          '15'           '15'        2002       \\N   \n",
       "3  tt0313150      short          '15'           '15'        2002       \\N   \n",
       "4  tt0313150      short          '15'           '15'        2002       \\N   \n",
       "\n",
       "  runtime_minutes  is_adult              genres  average_rating  votes  \\\n",
       "0             121         0  Comedy,Crime,Drama             6.3   2218   \n",
       "1             121         0  Comedy,Crime,Drama             6.3   2218   \n",
       "2              25         0  Comedy,Drama,Short             6.3    184   \n",
       "3              25         0  Comedy,Drama,Short             6.3    184   \n",
       "4              25         0  Comedy,Drama,Short             6.3    184   \n",
       "\n",
       "                                              review  rating   sp  pos  \\\n",
       "0  The pakage implies that Warren Beatty and Gold...       1  neg    0   \n",
       "1  How the hell did they get this made?! Presenti...       1  neg    0   \n",
       "2  There is no real story the film seems more lik...       3  neg    0   \n",
       "3  Um .... a serious film about troubled teens in...       7  pos    1   \n",
       "4  I'm totally agree with GarryJohal from Singapo...       9  pos    1   \n",
       "\n",
       "  ds_part   idx  \n",
       "0   train  8335  \n",
       "1   train  8336  \n",
       "2    test  2489  \n",
       "3    test  9280  \n",
       "4    test  9281  "
      ]
     },
     "execution_count": 5,
     "metadata": {},
     "output_type": "execute_result"
    }
   ],
   "source": [
    "# Se observa la primera parte del dataframe que se usará\n",
    "df_reviews.head()"
   ]
  },
  {
   "cell_type": "code",
   "execution_count": 6,
   "metadata": {},
   "outputs": [
    {
     "name": "stdout",
     "output_type": "stream",
     "text": [
      "<class 'pandas.core.frame.DataFrame'>\n",
      "RangeIndex: 47331 entries, 0 to 47330\n",
      "Data columns (total 17 columns):\n",
      " #   Column           Non-Null Count  Dtype  \n",
      "---  ------           --------------  -----  \n",
      " 0   tconst           47331 non-null  object \n",
      " 1   title_type       47331 non-null  object \n",
      " 2   primary_title    47331 non-null  object \n",
      " 3   original_title   47331 non-null  object \n",
      " 4   start_year       47331 non-null  int64  \n",
      " 5   end_year         47331 non-null  object \n",
      " 6   runtime_minutes  47331 non-null  object \n",
      " 7   is_adult         47331 non-null  int64  \n",
      " 8   genres           47331 non-null  object \n",
      " 9   average_rating   47329 non-null  float64\n",
      " 10  votes            47329 non-null  Int64  \n",
      " 11  review           47331 non-null  object \n",
      " 12  rating           47331 non-null  int64  \n",
      " 13  sp               47331 non-null  object \n",
      " 14  pos              47331 non-null  int64  \n",
      " 15  ds_part          47331 non-null  object \n",
      " 16  idx              47331 non-null  int64  \n",
      "dtypes: Int64(1), float64(1), int64(5), object(10)\n",
      "memory usage: 6.2+ MB\n"
     ]
    }
   ],
   "source": [
    "# Se observa la informacion de las columnas, enfocandonos solamente en las que se van a utilizar para el proyecto, las cuales \n",
    "# son revew, pos y ds_part\n",
    "df_reviews.info()"
   ]
  },
  {
   "cell_type": "markdown",
   "metadata": {},
   "source": [
    "**Se ha verificado que los tipos de datos son los requeridos y que no existen valores nulos en los datos.**"
   ]
  },
  {
   "cell_type": "code",
   "execution_count": 7,
   "metadata": {},
   "outputs": [
    {
     "data": {
      "text/html": [
       "<div>\n",
       "<style scoped>\n",
       "    .dataframe tbody tr th:only-of-type {\n",
       "        vertical-align: middle;\n",
       "    }\n",
       "\n",
       "    .dataframe tbody tr th {\n",
       "        vertical-align: top;\n",
       "    }\n",
       "\n",
       "    .dataframe thead th {\n",
       "        text-align: right;\n",
       "    }\n",
       "</style>\n",
       "<table border=\"1\" class=\"dataframe\">\n",
       "  <thead>\n",
       "    <tr style=\"text-align: right;\">\n",
       "      <th></th>\n",
       "      <th>start_year</th>\n",
       "      <th>is_adult</th>\n",
       "      <th>average_rating</th>\n",
       "      <th>votes</th>\n",
       "      <th>rating</th>\n",
       "      <th>pos</th>\n",
       "      <th>idx</th>\n",
       "    </tr>\n",
       "  </thead>\n",
       "  <tbody>\n",
       "    <tr>\n",
       "      <th>count</th>\n",
       "      <td>47331.000000</td>\n",
       "      <td>47331.000000</td>\n",
       "      <td>47329.000000</td>\n",
       "      <td>4.732900e+04</td>\n",
       "      <td>47331.000000</td>\n",
       "      <td>47331.000000</td>\n",
       "      <td>47331.000000</td>\n",
       "    </tr>\n",
       "    <tr>\n",
       "      <th>mean</th>\n",
       "      <td>1989.631235</td>\n",
       "      <td>0.001732</td>\n",
       "      <td>5.998278</td>\n",
       "      <td>2.556292e+04</td>\n",
       "      <td>5.484608</td>\n",
       "      <td>0.498954</td>\n",
       "      <td>6279.697999</td>\n",
       "    </tr>\n",
       "    <tr>\n",
       "      <th>std</th>\n",
       "      <td>19.600364</td>\n",
       "      <td>0.041587</td>\n",
       "      <td>1.494289</td>\n",
       "      <td>8.367004e+04</td>\n",
       "      <td>3.473109</td>\n",
       "      <td>0.500004</td>\n",
       "      <td>3605.702545</td>\n",
       "    </tr>\n",
       "    <tr>\n",
       "      <th>min</th>\n",
       "      <td>1894.000000</td>\n",
       "      <td>0.000000</td>\n",
       "      <td>1.400000</td>\n",
       "      <td>9.000000e+00</td>\n",
       "      <td>1.000000</td>\n",
       "      <td>0.000000</td>\n",
       "      <td>0.000000</td>\n",
       "    </tr>\n",
       "    <tr>\n",
       "      <th>25%</th>\n",
       "      <td>1982.000000</td>\n",
       "      <td>0.000000</td>\n",
       "      <td>5.100000</td>\n",
       "      <td>8.270000e+02</td>\n",
       "      <td>2.000000</td>\n",
       "      <td>0.000000</td>\n",
       "      <td>3162.000000</td>\n",
       "    </tr>\n",
       "    <tr>\n",
       "      <th>50%</th>\n",
       "      <td>1998.000000</td>\n",
       "      <td>0.000000</td>\n",
       "      <td>6.300000</td>\n",
       "      <td>3.197000e+03</td>\n",
       "      <td>4.000000</td>\n",
       "      <td>0.000000</td>\n",
       "      <td>6299.000000</td>\n",
       "    </tr>\n",
       "    <tr>\n",
       "      <th>75%</th>\n",
       "      <td>2004.000000</td>\n",
       "      <td>0.000000</td>\n",
       "      <td>7.100000</td>\n",
       "      <td>1.397400e+04</td>\n",
       "      <td>9.000000</td>\n",
       "      <td>1.000000</td>\n",
       "      <td>9412.000000</td>\n",
       "    </tr>\n",
       "    <tr>\n",
       "      <th>max</th>\n",
       "      <td>2010.000000</td>\n",
       "      <td>1.000000</td>\n",
       "      <td>9.700000</td>\n",
       "      <td>1.739448e+06</td>\n",
       "      <td>10.000000</td>\n",
       "      <td>1.000000</td>\n",
       "      <td>12499.000000</td>\n",
       "    </tr>\n",
       "  </tbody>\n",
       "</table>\n",
       "</div>"
      ],
      "text/plain": [
       "         start_year      is_adult  average_rating         votes        rating  \\\n",
       "count  47331.000000  47331.000000    47329.000000  4.732900e+04  47331.000000   \n",
       "mean    1989.631235      0.001732        5.998278  2.556292e+04      5.484608   \n",
       "std       19.600364      0.041587        1.494289  8.367004e+04      3.473109   \n",
       "min     1894.000000      0.000000        1.400000  9.000000e+00      1.000000   \n",
       "25%     1982.000000      0.000000        5.100000  8.270000e+02      2.000000   \n",
       "50%     1998.000000      0.000000        6.300000  3.197000e+03      4.000000   \n",
       "75%     2004.000000      0.000000        7.100000  1.397400e+04      9.000000   \n",
       "max     2010.000000      1.000000        9.700000  1.739448e+06     10.000000   \n",
       "\n",
       "                pos           idx  \n",
       "count  47331.000000  47331.000000  \n",
       "mean       0.498954   6279.697999  \n",
       "std        0.500004   3605.702545  \n",
       "min        0.000000      0.000000  \n",
       "25%        0.000000   3162.000000  \n",
       "50%        0.000000   6299.000000  \n",
       "75%        1.000000   9412.000000  \n",
       "max        1.000000  12499.000000  "
      ]
     },
     "execution_count": 7,
     "metadata": {},
     "output_type": "execute_result"
    }
   ],
   "source": [
    "df_reviews.describe()"
   ]
  },
  {
   "cell_type": "markdown",
   "metadata": {},
   "source": [
    "**El dataframe esta completo y losto para utilizarse**"
   ]
  },
  {
   "cell_type": "code",
   "execution_count": null,
   "metadata": {},
   "outputs": [],
   "source": [
    "## EDA"
   ]
  },
  {
   "cell_type": "code",
   "execution_count": null,
   "metadata": {},
   "outputs": [],
   "source": [
    "Veamos el número de películas y reseñas a lo largo de los años."
   ]
  },
  {
   "cell_type": "code",
   "execution_count": null,
   "metadata": {},
   "outputs": [],
   "source": [
    "fig, axs = plt.subplots(2, 1, figsize=(16, 8))\n",
    "\n",
    "ax = axs[0]\n",
    "\n",
    "dft1 = df_reviews[['tconst', 'start_year']].drop_duplicates() \\\n",
    "    ['start_year'].value_counts().sort_index()\n",
    "dft1 = dft1.reindex(index=np.arange(dft1.index.min(), max(dft1.index.max(), 2021))).fillna(0)\n",
    "dft1.plot(kind='bar', ax=ax)\n",
    "ax.set_title('Número de películas a lo largo de los años')\n",
    "\n",
    "ax = axs[1]\n",
    "\n",
    "dft2 = df_reviews.groupby(['start_year', 'pos'])['pos'].count().unstack()\n",
    "dft2 = dft2.reindex(index=np.arange(dft2.index.min(), max(dft2.index.max(), 2021))).fillna(0)\n",
    "\n",
    "dft2.plot(kind='bar', stacked=True, label='#reviews (neg, pos)', ax=ax)\n",
    "\n",
    "dft2 = df_reviews['start_year'].value_counts().sort_index()\n",
    "dft2 = dft2.reindex(index=np.arange(dft2.index.min(), max(dft2.index.max(), 2021))).fillna(0)\n",
    "dft3 = (dft2/dft1).fillna(0)\n",
    "axt = ax.twinx()\n",
    "dft3.reset_index(drop=True).rolling(5).mean().plot(color='orange', label='reviews per movie (avg over 5 years)', ax=axt)\n",
    "\n",
    "lines, labels = axt.get_legend_handles_labels()\n",
    "ax.legend(lines, labels, loc='upper left')\n",
    "\n",
    "ax.set_title('Número de reseñas a lo largo de los años')\n",
    "\n",
    "fig.tight_layout()"
   ]
  },
  {
   "cell_type": "code",
   "execution_count": null,
   "metadata": {},
   "outputs": [],
   "source": [
    "Veamos la distribución del número de reseñas por película con el conteo exacto y KDE (solo para saber cómo puede diferir del conteo exacto)"
   ]
  },
  {
   "cell_type": "code",
   "execution_count": null,
   "metadata": {},
   "outputs": [],
   "source": [
    "fig, axs = plt.subplots(1, 2, figsize=(16, 5))\n",
    "\n",
    "ax = axs[0]\n",
    "dft = df_reviews.groupby('tconst')['review'].count() \\\n",
    "    .value_counts() \\\n",
    "    .sort_index()\n",
    "dft.plot.bar(ax=ax)\n",
    "ax.set_title('Gráfico de barras de #Reseñas por película')\n",
    "\n",
    "ax = axs[1]\n",
    "dft = df_reviews.groupby('tconst')['review'].count()\n",
    "sns.kdeplot(dft, ax=ax)\n",
    "ax.set_title('Gráfico KDE de #Reseñas por película')\n",
    "\n",
    "fig.tight_layout()"
   ]
  },
  {
   "cell_type": "code",
   "execution_count": null,
   "metadata": {},
   "outputs": [],
   "source": []
  },
  {
   "cell_type": "code",
   "execution_count": null,
   "metadata": {},
   "outputs": [],
   "source": [
    "df_reviews['pos'].value_counts()"
   ]
  },
  {
   "cell_type": "code",
   "execution_count": null,
   "metadata": {},
   "outputs": [],
   "source": [
    "fig, axs = plt.subplots(1, 2, figsize=(12, 4))\n",
    "\n",
    "ax = axs[0]\n",
    "dft = df_reviews.query('ds_part == \"train\"')['rating'].value_counts().sort_index()\n",
    "dft = dft.reindex(index=np.arange(min(dft.index.min(), 1), max(dft.index.max(), 11))).fillna(0)\n",
    "dft.plot.bar(ax=ax)\n",
    "ax.set_ylim([0, 5000])\n",
    "ax.set_title('El conjunto de entrenamiento: distribución de puntuaciones')\n",
    "\n",
    "ax = axs[1]\n",
    "dft = df_reviews.query('ds_part == \"test\"')['rating'].value_counts().sort_index()\n",
    "dft = dft.reindex(index=np.arange(min(dft.index.min(), 1), max(dft.index.max(), 11))).fillna(0)\n",
    "dft.plot.bar(ax=ax)\n",
    "ax.set_ylim([0, 5000])\n",
    "ax.set_title('El conjunto de prueba: distribución de puntuaciones')\n",
    "\n",
    "fig.tight_layout()"
   ]
  },
  {
   "cell_type": "code",
   "execution_count": null,
   "metadata": {},
   "outputs": [],
   "source": []
  },
  {
   "cell_type": "code",
   "execution_count": null,
   "metadata": {},
   "outputs": [],
   "source": [
    "Distribución de reseñas negativas y positivas a lo largo de los años para dos partes del conjunto de datos"
   ]
  },
  {
   "cell_type": "code",
   "execution_count": null,
   "metadata": {},
   "outputs": [],
   "source": [
    "fig, axs = plt.subplots(2, 2, figsize=(16, 8), gridspec_kw=dict(width_ratios=(2, 1), height_ratios=(1, 1)))\n",
    "\n",
    "ax = axs[0][0]\n",
    "\n",
    "dft = df_reviews.query('ds_part == \"train\"').groupby(['start_year', 'pos'])['pos'].count().unstack()\n",
    "dft.index = dft.index.astype('int')\n",
    "dft = dft.reindex(index=np.arange(dft.index.min(), max(dft.index.max(), 2020))).fillna(0)\n",
    "dft.plot(kind='bar', stacked=True, ax=ax)\n",
    "ax.set_title('El conjunto de entrenamiento: número de reseñas de diferentes polaridades por año')\n",
    "\n",
    "ax = axs[0][1]\n",
    "\n",
    "dft = df_reviews.query('ds_part == \"train\"').groupby(['tconst', 'pos'])['pos'].count().unstack()\n",
    "sns.kdeplot(dft[0], color='blue', label='negative', kernel='epa', ax=ax)\n",
    "sns.kdeplot(dft[1], color='green', label='positive', kernel='epa', ax=ax)\n",
    "ax.legend()\n",
    "ax.set_title('El conjunto de entrenamiento: distribución de diferentes polaridades por película')\n",
    "\n",
    "ax = axs[1][0]\n",
    "\n",
    "dft = df_reviews.query('ds_part == \"test\"').groupby(['start_year', 'pos'])['pos'].count().unstack()\n",
    "dft.index = dft.index.astype('int')\n",
    "dft = dft.reindex(index=np.arange(dft.index.min(), max(dft.index.max(), 2020))).fillna(0)\n",
    "dft.plot(kind='bar', stacked=True, ax=ax)\n",
    "ax.set_title('El conjunto de prueba: número de reseñas de diferentes polaridades por año')\n",
    "\n",
    "ax = axs[1][1]\n",
    "\n",
    "dft = df_reviews.query('ds_part == \"test\"').groupby(['tconst', 'pos'])['pos'].count().unstack()\n",
    "sns.kdeplot(dft[0], color='blue', label='negative', kernel='epa', ax=ax)\n",
    "sns.kdeplot(dft[1], color='green', label='positive', kernel='epa', ax=ax)\n",
    "ax.legend()\n",
    "ax.set_title('El conjunto de prueba: distribución de diferentes polaridades por película')\n",
    "\n",
    "fig.tight_layout()"
   ]
  },
  {
   "cell_type": "markdown",
   "metadata": {},
   "source": [
    "## Procedimiento de evaluación"
   ]
  },
  {
   "cell_type": "markdown",
   "metadata": {},
   "source": [
    "Composición de una rutina de evaluación que se pueda usar para todos los modelos en este proyecto"
   ]
  },
  {
   "cell_type": "code",
   "execution_count": 13,
   "metadata": {},
   "outputs": [],
   "source": [
    "import sklearn.metrics as metrics\n",
    "def evaluate_model(model, train_features, train_target, test_features, test_target):\n",
    "    \n",
    "    eval_stats = {}\n",
    "    \n",
    "    fig, axs = plt.subplots(1, 3, figsize=(20, 6)) \n",
    "    \n",
    "    for type, features, target in (('train', train_features, train_target), ('test', test_features, test_target)):\n",
    "        \n",
    "        eval_stats[type] = {}\n",
    "    \n",
    "        pred_target = model.predict(features)\n",
    "        pred_proba = model.predict_proba(features)[:, 1]\n",
    "        \n",
    "        # F1\n",
    "        f1_thresholds = np.arange(0, 1.01, 0.05)\n",
    "        f1_scores = [metrics.f1_score(target, pred_proba>=threshold) for threshold in f1_thresholds]\n",
    "        \n",
    "        # ROC\n",
    "        fpr, tpr, roc_thresholds = metrics.roc_curve(target, pred_proba)\n",
    "        roc_auc = metrics.roc_auc_score(target, pred_proba)    \n",
    "        eval_stats[type]['ROC AUC'] = roc_auc\n",
    "\n",
    "        # PRC\n",
    "        precision, recall, pr_thresholds = metrics.precision_recall_curve(target, pred_proba)\n",
    "        aps = metrics.average_precision_score(target, pred_proba)\n",
    "        eval_stats[type]['APS'] = aps\n",
    "        \n",
    "        if type == 'train':\n",
    "            color = 'blue'\n",
    "        else:\n",
    "            color = 'green'\n",
    "\n",
    "        # Valor F1\n",
    "        ax = axs[0]\n",
    "        max_f1_score_idx = np.argmax(f1_scores)\n",
    "        ax.plot(f1_thresholds, f1_scores, color=color, label=f'{type}, max={f1_scores[max_f1_score_idx]:.2f} @ {f1_thresholds[max_f1_score_idx]:.2f}')\n",
    "        # establecer cruces para algunos umbrales        \n",
    "        for threshold in (0.2, 0.4, 0.5, 0.6, 0.8):\n",
    "            closest_value_idx = np.argmin(np.abs(f1_thresholds-threshold))\n",
    "            marker_color = 'orange' if threshold != 0.5 else 'red'\n",
    "            ax.plot(f1_thresholds[closest_value_idx], f1_scores[closest_value_idx], color=marker_color, marker='X', markersize=7)\n",
    "        ax.set_xlim([-0.02, 1.02])    \n",
    "        ax.set_ylim([-0.02, 1.02])\n",
    "        ax.set_xlabel('threshold')\n",
    "        ax.set_ylabel('F1')\n",
    "        ax.legend(loc='lower center')\n",
    "        ax.set_title(f'Valor F1') \n",
    "\n",
    "        # ROC\n",
    "        ax = axs[1]    \n",
    "        ax.plot(fpr, tpr, color=color, label=f'{type}, ROC AUC={roc_auc:.2f}')\n",
    "        # establecer cruces para algunos umbrales        \n",
    "        for threshold in (0.2, 0.4, 0.5, 0.6, 0.8):\n",
    "            closest_value_idx = np.argmin(np.abs(roc_thresholds-threshold))\n",
    "            marker_color = 'orange' if threshold != 0.5 else 'red'            \n",
    "            ax.plot(fpr[closest_value_idx], tpr[closest_value_idx], color=marker_color, marker='X', markersize=7)\n",
    "        ax.plot([0, 1], [0, 1], color='grey', linestyle='--')\n",
    "        ax.set_xlim([-0.02, 1.02])    \n",
    "        ax.set_ylim([-0.02, 1.02])\n",
    "        ax.set_xlabel('FPR')\n",
    "        ax.set_ylabel('TPR')\n",
    "        ax.legend(loc='lower center')        \n",
    "        ax.set_title(f'Curva ROC')\n",
    "        \n",
    "        # PRC\n",
    "        ax = axs[2]\n",
    "        ax.plot(recall, precision, color=color, label=f'{type}, AP={aps:.2f}')\n",
    "        # establecer cruces para algunos umbrales        \n",
    "        for threshold in (0.2, 0.4, 0.5, 0.6, 0.8):\n",
    "            closest_value_idx = np.argmin(np.abs(pr_thresholds-threshold))\n",
    "            marker_color = 'orange' if threshold != 0.5 else 'red'\n",
    "            ax.plot(recall[closest_value_idx], precision[closest_value_idx], color=marker_color, marker='X', markersize=7)\n",
    "        ax.set_xlim([-0.02, 1.02])    \n",
    "        ax.set_ylim([-0.02, 1.02])\n",
    "        ax.set_xlabel('recall')\n",
    "        ax.set_ylabel('precision')\n",
    "        ax.legend(loc='lower center')\n",
    "        ax.set_title(f'PRC')        \n",
    "\n",
    "        eval_stats[type]['Accuracy'] = metrics.accuracy_score(target, pred_target)\n",
    "        eval_stats[type]['F1'] = metrics.f1_score(target, pred_target)\n",
    "    \n",
    "    df_eval_stats = pd.DataFrame(eval_stats)\n",
    "    df_eval_stats = df_eval_stats.round(2)\n",
    "    df_eval_stats = df_eval_stats.reindex(index=('Exactitud', 'F1', 'APS', 'ROC AUC'))\n",
    "    \n",
    "    print(df_eval_stats)\n",
    "    \n",
    "    return"
   ]
  },
  {
   "cell_type": "markdown",
   "metadata": {},
   "source": [
    "## Normalización"
   ]
  },
  {
   "cell_type": "markdown",
   "metadata": {},
   "source": [
    "Suponemos que todos los modelos a continuación aceptan textos en minúsculas y sin dígitos, signos de puntuación, etc."
   ]
  },
  {
   "cell_type": "code",
   "execution_count": 14,
   "metadata": {},
   "outputs": [],
   "source": [
    "lemmatizer = WordNetLemmatizer()\n",
    "\n",
    "\n",
    "# Define la función de normalización y lematización\n",
    "def normalize_and_lemmatize(text):\n",
    "    # Convertir a minúsculas\n",
    "    text = text.lower()\n",
    "    \n",
    "    # Tokenizar el texto (dividir en palabras)\n",
    "    words = word_tokenize(text)\n",
    "    \n",
    "    # Eliminar puntuación y palabras vacías (stopwords)\n",
    "    words = [word for word in words if word not in stopwords.words('english') and word not in string.punctuation]\n",
    "    \n",
    "    # Lemmatizar cada palabra\n",
    "    lemmatized_words = [lemmatizer.lemmatize(word) for word in words]\n",
    "    \n",
    "    # Unir las palabras lematizadas en una cadena\n",
    "    return ' '.join(lemmatized_words)\n",
    "\n",
    "# Aplicar la normalización y lematización a la columna de reseñas\n",
    "#df['reseñas_normalizadas'] = df['reseñas'].apply(normalize_and_lemmatize)\n",
    "\n",
    "df_reviews['review_norm'] = df_reviews['review'].apply(normalize_and_lemmatize)\n",
    "\n"
   ]
  },
  {
   "cell_type": "markdown",
   "metadata": {},
   "source": [
    "## División entrenamiento / prueba"
   ]
  },
  {
   "cell_type": "markdown",
   "metadata": {},
   "source": [
    "Por fortuna, todo el conjunto de datos ya está dividido en partes de entrenamiento/prueba; 'ds_part' es el indicador correspondiente."
   ]
  },
  {
   "cell_type": "code",
   "execution_count": 15,
   "metadata": {},
   "outputs": [
    {
     "name": "stdout",
     "output_type": "stream",
     "text": [
      "(23796, 18)\n",
      "(23535, 18)\n"
     ]
    }
   ],
   "source": [
    "df_reviews_train = df_reviews.query('ds_part == \"train\"').copy()\n",
    "df_reviews_test = df_reviews.query('ds_part == \"test\"').copy()\n",
    "\n",
    "train_target = df_reviews_train['pos']\n",
    "test_target = df_reviews_test['pos']\n",
    "\n",
    "print(df_reviews_train.shape)\n",
    "print(df_reviews_test.shape)"
   ]
  },
  {
   "cell_type": "markdown",
   "metadata": {},
   "source": [
    "## Trabajar con modelos"
   ]
  },
  {
   "cell_type": "markdown",
   "metadata": {},
   "source": [
    "### Modelo 0 - Constante"
   ]
  },
  {
   "cell_type": "code",
   "execution_count": 16,
   "metadata": {},
   "outputs": [],
   "source": [
    "from sklearn.dummy import DummyClassifier"
   ]
  },
  {
   "cell_type": "code",
   "execution_count": 17,
   "metadata": {},
   "outputs": [],
   "source": [
    "# Crear el clasificador Dummy\n",
    "dummy_model = DummyClassifier(strategy=\"most_frequent\")"
   ]
  },
  {
   "cell_type": "code",
   "execution_count": 18,
   "metadata": {},
   "outputs": [
    {
     "data": {
      "text/plain": [
       "DummyClassifier(strategy='most_frequent')"
      ]
     },
     "execution_count": 18,
     "metadata": {},
     "output_type": "execute_result"
    }
   ],
   "source": [
    "# Entrenar el modelo en el conjunto de entrenamiento\n",
    "dummy_model.fit(df_reviews_train['review_norm'], train_target)"
   ]
  },
  {
   "cell_type": "code",
   "execution_count": 19,
   "metadata": {},
   "outputs": [
    {
     "name": "stdout",
     "output_type": "stream",
     "text": [
      "           train  test\n",
      "Exactitud    NaN   NaN\n",
      "F1           0.0   0.0\n",
      "APS          0.5   0.5\n",
      "ROC AUC      0.5   0.5\n"
     ]
    },
    {
     "data": {
      "image/png": "[encoded data removed]",
      "text/plain": [
       "<Figure size 2000x600 with 3 Axes>"
      ]
     },
     "metadata": {},
     "output_type": "display_data"
    }
   ],
   "source": [
    "# Evaluar el modelo utilizando la función evaluate_model\n",
    "evaluate_model(dummy_model, df_reviews_train['review_norm'], train_target, df_reviews_test['review_norm'], test_target)"
   ]
  },
  {
   "cell_type": "markdown",
   "metadata": {},
   "source": [
    "### Modelo 1 - NLTK, TF-IDF y LR"
   ]
  },
  {
   "cell_type": "markdown",
   "metadata": {},
   "source": [
    "TF-IDF"
   ]
  },
  {
   "cell_type": "code",
   "execution_count": 20,
   "metadata": {},
   "outputs": [],
   "source": [
    "import nltk\n",
    "\n",
    "from sklearn.feature_extraction.text import TfidfVectorizer\n",
    "from sklearn.linear_model import LogisticRegression\n",
    "\n",
    "from nltk.corpus import stopwords as nltk_stopwords"
   ]
  },
  {
   "cell_type": "code",
   "execution_count": 21,
   "metadata": {},
   "outputs": [],
   "source": [
    "stop_words = set(nltk_stopwords.words('english'))# definir las palabras vacías\n",
    "\n",
    "count_tf_idf = TfidfVectorizer(stop_words=stop_words)# inicializar TfidVercorizer\n",
    "#tf_idf = count_tf_idf.fit_transform(train_corpus)# ajustar y transformar el corpus de entrenamiento\n",
    "\n",
    "# Crear el vectorizador TF-IDF\n",
    "#tfidf_vectorizer = TfidfVectorizer(stop_words=stopwords.words('english'), max_features=5000)\n",
    "\n",
    "# Transformar los textos en el conjunto de entrenamiento y prueba usando TF-IDF\n",
    "train_features_1 = count_tf_idf.fit_transform(df_reviews_train['review_norm'])\n",
    "test_features_1 = count_tf_idf.transform(df_reviews_test['review_norm'])"
   ]
  },
  {
   "cell_type": "code",
   "execution_count": 22,
   "metadata": {},
   "outputs": [
    {
     "data": {
      "text/plain": [
       "LogisticRegression(max_iter=1000)"
      ]
     },
     "execution_count": 22,
     "metadata": {},
     "output_type": "execute_result"
    }
   ],
   "source": [
    "# Crear el clasificador de regresión logística\n",
    "model_1 = LogisticRegression(max_iter=1000)\n",
    "\n",
    "# Entrenar el modelo de regresión logística en los datos de entrenamiento\n",
    "model_1.fit(train_features_1, train_target)"
   ]
  },
  {
   "cell_type": "code",
   "execution_count": 23,
   "metadata": {
    "scrolled": false
   },
   "outputs": [
    {
     "name": "stdout",
     "output_type": "stream",
     "text": [
      "           train  test\n",
      "Exactitud    NaN   NaN\n",
      "F1          0.94  0.88\n",
      "APS         0.98  0.95\n",
      "ROC AUC     0.98  0.95\n"
     ]
    },
    {
     "data": {
      "image/png": "[encoded data removed]",
      "text/plain": [
       "<Figure size 2000x600 with 3 Axes>"
      ]
     },
     "metadata": {},
     "output_type": "display_data"
    }
   ],
   "source": [
    "evaluate_model(model_1, train_features_1, train_target, test_features_1, test_target)"
   ]
  },
  {
   "cell_type": "markdown",
   "metadata": {},
   "source": [
    "**El modelo de Regresión Logística con TF-IDF y NLTK ha demostrado un rendimiento excepcional en la clasificación de reseñas de películas, alcanzando un F1 score de 0.94 en el conjunto de entrenamiento y 0.88 en el conjunto de prueba, lo que supera ampliamente el objetivo de un F1 de 0.85. Además, las métricas de APS (0.98 en entrenamiento y 0.95 en prueba) y ROC AUC (0.98 en entrenamiento y 0.95 en prueba) refuerzan la efectividad del modelo en distinguir entre reseñas positivas y negativas. Estos resultados indican que el modelo ha aprendido bien a clasificar las reseñas, generaliza de manera efectiva y está muy cerca de ofrecer una solución óptima para este problema, destacando la calidad del preprocesamiento de texto y la elección del modelo.**"
   ]
  },
  {
   "cell_type": "markdown",
   "metadata": {},
   "source": [
    "### Modelo 2 - spaCy, TF-IDF y LR"
   ]
  },
  {
   "cell_type": "code",
   "execution_count": 24,
   "metadata": {},
   "outputs": [],
   "source": [
    "import spacy\n",
    "\n",
    "nlp = spacy.load('en_core_web_sm', disable=['parser', 'ner'])"
   ]
  },
  {
   "cell_type": "code",
   "execution_count": 25,
   "metadata": {},
   "outputs": [],
   "source": [
    "def text_preprocessing_3(text):\n",
    "    \n",
    "    doc = nlp(text)\n",
    "    #tokens = [token.lemma_ for token in doc if not token.is_stop]\n",
    "    tokens = [token.lemma_ for token in doc]\n",
    "    \n",
    "    return ' '.join(tokens)"
   ]
  },
  {
   "cell_type": "code",
   "execution_count": 26,
   "metadata": {},
   "outputs": [],
   "source": [
    "# Aplicar la función de preprocesamiento a las reseñas\n",
    "df_reviews_train['review_spacy'] = df_reviews_train['review'].apply(text_preprocessing_3)\n",
    "df_reviews_test['review_spacy'] = df_reviews_test['review'].apply(text_preprocessing_3)\n",
    "\n",
    "# Crear el vectorizador TF-IDF\n",
    "stop_words = set(nltk_stopwords.words('english'))# definir las palabras vacías\n",
    "\n",
    "tfidf_vectorizer_spacy = TfidfVectorizer(stop_words=stop_words)# inicializar TfidVercorizer\n",
    "\n",
    "#tfidf_vectorizer_spacy = TfidfVectorizer(stop_words='english', max_features=5000)\n",
    "\n",
    "# Transformar las reseñas en vectores de características\n",
    "train_features_2 = tfidf_vectorizer_spacy.fit_transform(df_reviews_train['review_spacy'])\n",
    "test_features_2 = tfidf_vectorizer_spacy.transform(df_reviews_test['review_spacy'])"
   ]
  },
  {
   "cell_type": "code",
   "execution_count": 27,
   "metadata": {},
   "outputs": [
    {
     "data": {
      "text/plain": [
       "LogisticRegression(max_iter=1000)"
      ]
     },
     "execution_count": 27,
     "metadata": {},
     "output_type": "execute_result"
    }
   ],
   "source": [
    "# Crear el clasificador de regresión logística\n",
    "model_2 = LogisticRegression(max_iter=1000)\n",
    "\n",
    "# Entrenar el modelo en los datos de entrenamiento\n",
    "model_2.fit(train_features_2, train_target)"
   ]
  },
  {
   "cell_type": "code",
   "execution_count": 28,
   "metadata": {},
   "outputs": [
    {
     "name": "stdout",
     "output_type": "stream",
     "text": [
      "           train  test\n",
      "Exactitud    NaN   NaN\n",
      "F1          0.93  0.88\n",
      "APS         0.98  0.95\n",
      "ROC AUC     0.98  0.95\n"
     ]
    },
    {
     "data": {
      "image/png": "[encoded data removed]",
      "text/plain": [
       "<Figure size 2000x600 with 3 Axes>"
      ]
     },
     "metadata": {},
     "output_type": "display_data"
    }
   ],
   "source": [
    "# Evaluar el modelo utilizando la función evaluate_model\n",
    "evaluate_model(model_2, train_features_2, train_target, test_features_2, test_target)"
   ]
  },
  {
   "cell_type": "markdown",
   "metadata": {},
   "source": [
    "**El Modelo 3 que utiliza spaCy para el preprocesamiento del texto, combinado con TF-IDF y Regresión Logística, ha mostrado un rendimiento sobresaliente en la clasificación de reseñas de películas. El modelo logró un F1 score de 0.93 en el conjunto de entrenamiento y 0.88 en el conjunto de prueba, lo que indica un buen equilibrio entre precisión y recall. Además, las métricas de APS (0.98 en entrenamiento y 0.95 en prueba) y ROC AUC (0.98 en entrenamiento y 0.95 en prueba) refuerzan la capacidad del modelo para separar las clases positivas y negativas de manera efectiva. Estos resultados son similares a los obtenidos con el modelo anterior, lo que sugiere que el preprocesamiento con spaCy ha tenido un impacto positivo, pero no ha sido un cambio drástico. En general, este modelo también demuestra una gran capacidad para generalizar a nuevos datos, alcanzando métricas de alto rendimiento en el conjunto de prueba.**"
   ]
  },
  {
   "cell_type": "markdown",
   "metadata": {},
   "source": [
    "### Modelo 3 - spaCy, TF-IDF y LGBMClassifier"
   ]
  },
  {
   "cell_type": "code",
   "execution_count": 29,
   "metadata": {},
   "outputs": [],
   "source": [
    "from lightgbm import LGBMClassifier"
   ]
  },
  {
   "cell_type": "code",
   "execution_count": 30,
   "metadata": {},
   "outputs": [],
   "source": [
    "nlp = spacy.load('en_core_web_sm', disable=['parser', 'ner'])\n",
    "\n",
    "# Función de preprocesamiento usando spaCy (ya definida anteriormente)\n",
    "def text_preprocessing_4(text):\n",
    "    doc = nlp(text)\n",
    "    tokens = [token.lemma_ for token in doc if not token.is_stop]\n",
    "    return ' '.join(tokens)\n"
   ]
  },
  {
   "cell_type": "code",
   "execution_count": 31,
   "metadata": {},
   "outputs": [],
   "source": [
    "# Aplicar la función de preprocesamiento a las reseñas\n",
    "df_reviews_train['review_spacy'] = df_reviews_train['review'].apply(text_preprocessing_4)\n",
    "df_reviews_test['review_spacy'] = df_reviews_test['review'].apply(text_preprocessing_4)\n",
    "\n",
    "# Crear el vectorizador TF-IDF\n",
    "stop_words = set(nltk_stopwords.words('english'))# definir las palabras vacías\n",
    "\n",
    "tfidf_vectorizer_spacy_lgbm = TfidfVectorizer(stop_words=stop_words)# inicializar TfidVercorizer\n",
    "\n",
    "\n",
    "# Crear el vectorizador TF-IDF\n",
    "#tfidf_vectorizer_spacy_lgbm = TfidfVectorizer(stop_words='english', max_features=5000)"
   ]
  },
  {
   "cell_type": "code",
   "execution_count": 32,
   "metadata": {},
   "outputs": [],
   "source": [
    "# Transformar las reseñas en vectores de características\n",
    "train_features_3 = tfidf_vectorizer_spacy_lgbm.fit_transform(df_reviews_train['review_spacy'])\n",
    "test_features_3 = tfidf_vectorizer_spacy_lgbm.transform(df_reviews_test['review_spacy'])"
   ]
  },
  {
   "cell_type": "code",
   "execution_count": 33,
   "metadata": {},
   "outputs": [
    {
     "data": {
      "text/plain": [
       "LGBMClassifier(learning_rate=0.05)"
      ]
     },
     "execution_count": 33,
     "metadata": {},
     "output_type": "execute_result"
    }
   ],
   "source": [
    "# Crear el clasificador LGBMClassifier\n",
    "model_3 = LGBMClassifier(n_estimators=100, learning_rate=0.05)\n",
    "\n",
    "# Entrenar el modelo en los datos de entrenamiento\n",
    "model_3.fit(train_features_3, train_target)"
   ]
  },
  {
   "cell_type": "code",
   "execution_count": 35,
   "metadata": {},
   "outputs": [
    {
     "name": "stdout",
     "output_type": "stream",
     "text": [
      "           train  test\n",
      "Exactitud    NaN   NaN\n",
      "F1          0.87  0.83\n",
      "APS         0.94  0.91\n",
      "ROC AUC     0.94  0.92\n"
     ]
    },
    {
     "data": {
      "image/png": "[encoded data removed]",
      "text/plain": [
       "<Figure size 2000x600 with 3 Axes>"
      ]
     },
     "metadata": {},
     "output_type": "display_data"
    }
   ],
   "source": [
    "# Evaluar el modelo utilizando la función evaluate_model\n",
    "evaluate_model(model_3, train_features_3, train_target, test_features_3, test_target)"
   ]
  },
  {
   "cell_type": "markdown",
   "metadata": {},
   "source": [
    "**El Modelo 4, que utiliza spaCy para el preprocesamiento del texto, TF-IDF para la vectorización y el clasificador LGBMClassifier, ha mostrado un rendimiento sólido tanto en el conjunto de entrenamiento como en el de prueba. El modelo logró un F1 score de 0.87 en entrenamiento y 0.83 en prueba, lo que indica un buen balance entre precisión y recall. Las métricas de APS y ROC AUC también son destacables, con valores de 0.94 y 0.91 en prueba, respectivamente. Aunque el rendimiento en este modelo es ligeramente inferior al de otros modelos, como el de regresión logística con spaCy y TF-IDF, sigue siendo competitivo y proporciona un buen poder predictivo. El uso de LGBMClassifier muestra ser una opción efectiva para este tipo de tareas de clasificación, y los resultados sugieren que este modelo podría seguir mejorando con ajustes adicionales de hiperparámetros.**"
   ]
  },
  {
   "cell_type": "markdown",
   "metadata": {},
   "source": [
    "## Mis reseñas"
   ]
  },
  {
   "cell_type": "code",
   "execution_count": 38,
   "metadata": {},
   "outputs": [
    {
     "data": {
      "text/html": [
       "<div>\n",
       "<style scoped>\n",
       "    .dataframe tbody tr th:only-of-type {\n",
       "        vertical-align: middle;\n",
       "    }\n",
       "\n",
       "    .dataframe tbody tr th {\n",
       "        vertical-align: top;\n",
       "    }\n",
       "\n",
       "    .dataframe thead th {\n",
       "        text-align: right;\n",
       "    }\n",
       "</style>\n",
       "<table border=\"1\" class=\"dataframe\">\n",
       "  <thead>\n",
       "    <tr style=\"text-align: right;\">\n",
       "      <th></th>\n",
       "      <th>review</th>\n",
       "      <th>review_norm</th>\n",
       "    </tr>\n",
       "  </thead>\n",
       "  <tbody>\n",
       "    <tr>\n",
       "      <th>0</th>\n",
       "      <td>I did not simply like it, not my kind of movie.</td>\n",
       "      <td>simply like kind movie</td>\n",
       "    </tr>\n",
       "    <tr>\n",
       "      <th>1</th>\n",
       "      <td>Well, I was bored and felt asleep in the middl...</td>\n",
       "      <td>well bored felt asleep middle movie</td>\n",
       "    </tr>\n",
       "    <tr>\n",
       "      <th>2</th>\n",
       "      <td>I was really fascinated with the movie</td>\n",
       "      <td>really fascinated movie</td>\n",
       "    </tr>\n",
       "    <tr>\n",
       "      <th>3</th>\n",
       "      <td>Even the actors looked really old and disinter...</td>\n",
       "      <td>even actor looked really old disinterested got...</td>\n",
       "    </tr>\n",
       "    <tr>\n",
       "      <th>4</th>\n",
       "      <td>I didn't expect the reboot to be so good! Writ...</td>\n",
       "      <td>n't expect reboot good writer really cared sou...</td>\n",
       "    </tr>\n",
       "    <tr>\n",
       "      <th>5</th>\n",
       "      <td>The movie had its upsides and downsides, but I...</td>\n",
       "      <td>movie upside downside feel like overall 's dec...</td>\n",
       "    </tr>\n",
       "    <tr>\n",
       "      <th>6</th>\n",
       "      <td>What a rotten attempt at a comedy. Not a singl...</td>\n",
       "      <td>rotten attempt comedy single joke land everyon...</td>\n",
       "    </tr>\n",
       "    <tr>\n",
       "      <th>7</th>\n",
       "      <td>Launching on Netflix was a brave move &amp; I real...</td>\n",
       "      <td>launching netflix brave move really appreciate...</td>\n",
       "    </tr>\n",
       "  </tbody>\n",
       "</table>\n",
       "</div>"
      ],
      "text/plain": [
       "                                              review  \\\n",
       "0    I did not simply like it, not my kind of movie.   \n",
       "1  Well, I was bored and felt asleep in the middl...   \n",
       "2             I was really fascinated with the movie   \n",
       "3  Even the actors looked really old and disinter...   \n",
       "4  I didn't expect the reboot to be so good! Writ...   \n",
       "5  The movie had its upsides and downsides, but I...   \n",
       "6  What a rotten attempt at a comedy. Not a singl...   \n",
       "7  Launching on Netflix was a brave move & I real...   \n",
       "\n",
       "                                         review_norm  \n",
       "0                             simply like kind movie  \n",
       "1                well bored felt asleep middle movie  \n",
       "2                            really fascinated movie  \n",
       "3  even actor looked really old disinterested got...  \n",
       "4  n't expect reboot good writer really cared sou...  \n",
       "5  movie upside downside feel like overall 's dec...  \n",
       "6  rotten attempt comedy single joke land everyon...  \n",
       "7  launching netflix brave move really appreciate...  "
      ]
     },
     "execution_count": 38,
     "metadata": {},
     "output_type": "execute_result"
    }
   ],
   "source": [
    "# puedes eliminar por completo estas reseñas y probar tus modelos en tus propias reseñas; las que se muestran a continuación son solo ejemplos\n",
    "\n",
    "my_reviews = pd.DataFrame([\n",
    "    'I did not simply like it, not my kind of movie.',\n",
    "    'Well, I was bored and felt asleep in the middle of the movie.',\n",
    "    'I was really fascinated with the movie',    \n",
    "    'Even the actors looked really old and disinterested, and they got paid to be in the movie. What a soulless cash grab.',\n",
    "    'I didn\\'t expect the reboot to be so good! Writers really cared about the source material',\n",
    "    'The movie had its upsides and downsides, but I feel like overall it\\'s a decent flick. I could see myself going to see it again.',\n",
    "    'What a rotten attempt at a comedy. Not a single joke lands, everyone acts annoying and loud, even kids won\\'t like this!',\n",
    "    'Launching on Netflix was a brave move & I really appreciate being able to binge on episode after episode, of this exciting intelligent new drama.'\n",
    "], columns=['review'])\n",
    "\n",
    "\"\"\"\n",
    "my_reviews = pd.DataFrame([\n",
    "    'Simplemente no me gustó, no es mi tipo de película.',\n",
    "    'Bueno, estaba aburrido y me quedé dormido a media película.',\n",
    "    'Estaba realmente fascinada con la película',    \n",
    "    'Hasta los actores parecían muy viejos y desinteresados, y les pagaron por estar en la película. Qué robo tan desalmado.',\n",
    "    '¡No esperaba que el relanzamiento fuera tan bueno! Los escritores realmente se preocuparon por el material original',\n",
    "    'La película tuvo sus altibajos, pero siento que, en general, es una película decente. Sí la volvería a ver',\n",
    "    'Qué pésimo intento de comedia. Ni una sola broma tiene sentido, todos actúan de forma irritante y ruidosa, ¡ni siquiera a los niños les gustará esto!',\n",
    "    'Fue muy valiente el lanzamiento en Netflix y realmente aprecio poder seguir viendo episodio tras episodio de este nuevo drama tan emocionante e inteligente.'\n",
    "], columns=['review'])\n",
    "\"\"\"\n",
    "\n",
    "my_reviews['review_norm'] = my_reviews['review_norm'] = my_reviews['review'].apply(normalize_and_lemmatize) # <escribe aquí la misma lógica de normalización que para el conjunto de datos principal>\n",
    "\n",
    "my_reviews"
   ]
  },
  {
   "cell_type": "markdown",
   "metadata": {},
   "source": []
  },
  {
   "cell_type": "markdown",
   "metadata": {},
   "source": [
    "### Modelo 1"
   ]
  },
  {
   "cell_type": "code",
   "execution_count": 40,
   "metadata": {
    "scrolled": true
   },
   "outputs": [
    {
     "name": "stdout",
     "output_type": "stream",
     "text": [
      "0.15:  simply like kind movie\n",
      "0.16:  well bored felt asleep middle movie\n",
      "0.55:  really fascinated movie\n",
      "0.11:  even actor looked really old disinterested got paid movie soulless cash grab\n",
      "0.28:  n't expect reboot good writer really cared source material\n",
      "0.50:  movie upside downside feel like overall 's decent flick could see going see\n",
      "0.03:  rotten attempt comedy single joke land everyone act annoying loud even kid wo n't like\n",
      "0.88:  launching netflix brave move really appreciate able binge episode episode exciting intelligent new d\n"
     ]
    }
   ],
   "source": [
    "texts = my_reviews['review_norm']\n",
    "\n",
    "my_reviews_pred_prob = model_1.predict_proba(count_tf_idf.transform(texts))[:, 1]\n",
    "\n",
    "for i, review in enumerate(texts.str.slice(0, 100)):\n",
    "    print(f'{my_reviews_pred_prob[i]:.2f}:  {review}')"
   ]
  },
  {
   "cell_type": "markdown",
   "metadata": {},
   "source": [
    "**El modelo parece estar funcionando correctamente para la mayoría de las reseñas y está diferenciando adecuadamente entre reseñas positivas y negativas. Sin embargo, las reseñas más breves o con textos incompletos pueden estar afectando la precisión de las predicciones. Mejorar la calidad de los datos de entrada y realizar ajustes en el modelo pueden llevar a una mejora en la clasificación.**"
   ]
  },
  {
   "cell_type": "markdown",
   "metadata": {},
   "source": [
    "### Modelo 2"
   ]
  },
  {
   "cell_type": "code",
   "execution_count": 41,
   "metadata": {
    "scrolled": true
   },
   "outputs": [
    {
     "name": "stdout",
     "output_type": "stream",
     "text": [
      "0.21:  simply like kind movie\n",
      "0.14:  well bored felt asleep middle movie\n",
      "0.49:  really fascinated movie\n",
      "0.13:  even actor looked really old disinterested got paid movie soulless cash grab\n",
      "0.27:  n't expect reboot good writer really cared source material\n",
      "0.49:  movie upside downside feel like overall 's decent flick could see going see\n",
      "0.03:  rotten attempt comedy single joke land everyone act annoying loud even kid wo n't like\n",
      "0.92:  launching netflix brave move really appreciate able binge episode episode exciting intelligent new d\n"
     ]
    }
   ],
   "source": [
    "texts = my_reviews['review_norm']\n",
    "\n",
    "my_reviews_pred_prob = model_2.predict_proba(tfidf_vectorizer_spacy.transform(texts.apply(lambda x: text_preprocessing_3(x))))[:, 1]\n",
    "\n",
    "for i, review in enumerate(texts.str.slice(0, 100)):\n",
    "    print(f'{my_reviews_pred_prob[i]:.2f}:  {review}')"
   ]
  },
  {
   "cell_type": "markdown",
   "metadata": {},
   "source": [
    "**El segundo modelo muestra un rendimiento coherente al clasificar reseñas con opiniones extremas, como las muy positivas o muy negativas, con probabilidades bajas para las reseñas negativas y altas para las positivas. Sin embargo, presenta una mayor tendencia a asignar probabilidades intermedias (alrededor de 0.49) a reseñas ambiguas o mixtas, lo que indica que el modelo es más conservador al enfrentarse a textos menos claros. Esto podría ser beneficioso en contextos donde se desee minimizar la clasificación errónea de reseñas mixtas, aunque también refleja que el modelo puede no ser tan decisivo en reseñas menos extremas. En general, el modelo mantiene un buen desempeño en la clasificación de reseñas claras, mientras que maneja las reseñas ambiguas de manera más cautelosa.**"
   ]
  },
  {
   "cell_type": "markdown",
   "metadata": {},
   "source": [
    "### Modelo 3"
   ]
  },
  {
   "cell_type": "code",
   "execution_count": 42,
   "metadata": {},
   "outputs": [
    {
     "name": "stdout",
     "output_type": "stream",
     "text": [
      "0.59:  simply like kind movie\n",
      "0.36:  well bored felt asleep middle movie\n",
      "0.59:  really fascinated movie\n",
      "0.49:  even actor looked really old disinterested got paid movie soulless cash grab\n",
      "0.72:  n't expect reboot good writer really cared source material\n",
      "0.63:  movie upside downside feel like overall 's decent flick could see going see\n",
      "0.34:  rotten attempt comedy single joke land everyone act annoying loud even kid wo n't like\n",
      "0.76:  launching netflix brave move really appreciate able binge episode episode exciting intelligent new d\n"
     ]
    }
   ],
   "source": [
    "texts = my_reviews['review_norm']\n",
    "\n",
    "my_reviews_pred_prob = model_3.predict_proba(tfidf_vectorizer_spacy_lgbm.transform(texts.apply(lambda x: text_preprocessing_3(x))))[:, 1]\n",
    "\n",
    "for i, review in enumerate(texts.str.slice(0, 100)):\n",
    "    print(f'{my_reviews_pred_prob[i]:.2f}:  {review}')"
   ]
  },
  {
   "cell_type": "markdown",
   "metadata": {},
   "source": [
    "**El tercer modelo muestra un rendimiento más equilibrado, asignando probabilidades más altas a las reseñas positivas y también manejando de manera más decisiva las negativas y ambiguas. Por ejemplo, las reseñas como \"I was really fascinated with the movie\" y \"I didn’t expect the reboot to be so good!\" tienen una probabilidad de 0.59 y 0.72, lo que indica una clasificación positiva clara. Al mismo tiempo, las reseñas con opiniones negativas como \"What a rotten attempt at a comedy\" o \"Well, I was bored and fell asleep\" también son correctamente identificadas, aunque con probabilidades ligeramente más bajas (0.34 y 0.36). En general, este modelo parece ser bastante efectivo al clasificar correctamente tanto las reseñas positivas como las negativas, con un desempeño particularmente bueno al manejar reseñas mixtas o moderadamente ambiguas, sin mostrar una inclinación demasiado fuerte hacia un tipo de clasificación.**"
   ]
  },
  {
   "cell_type": "markdown",
   "metadata": {},
   "source": [
    "## Conclusiones"
   ]
  },
  {
   "cell_type": "markdown",
   "metadata": {},
   "source": [
    "**El proyecto ha sido una oportunidad para explorar y evaluar diferentes técnicas de clasificación de reseñas de películas utilizando métodos de procesamiento de texto y diversos algoritmos de machine learning. Desde la implementación básica con el DummyClassifier, que sirve como punto de referencia, hasta modelos más complejos que combinan TF-IDF con Regresión Logística (LR) y LightGBM (LGBM), se ha logrado observar una clara mejora en las métricas de rendimiento, especialmente en el caso de los modelos basados en TF-IDF y los algoritmos más sofisticados como LR y LGBM. Estos modelos mostraron una consistencia notable, especialmente en las métricas de F1, AUC-ROC y precisión promedio, lo que indica que son capaces de clasificar correctamente las reseñas de películas.**"
   ]
  },
  {
   "cell_type": "markdown",
   "metadata": {},
   "source": [
    "**El análisis de las métricas para cada modelo también reveló que la combinación de TF-IDF con técnicas de lematización, tanto usando NLTK como spaCy, tuvo un impacto significativo en la mejora de la capacidad de los modelos para clasificar las reseñas de manera efectiva. Los modelos basados en estas técnicas de procesamiento de texto mostraron un rendimiento destacado al manejar las reseñas con opiniones extremas, ya sean positivas o negativas, permitiendo que el modelo capturara las claves del sentimiento de manera precisa. Sin embargo, algunos modelos, como el que utilizó LightGBM, no lograron igualar el rendimiento de los modelos de Regresión Logística, especialmente en términos de F1 en los datos de prueba.**"
   ]
  },
  {
   "cell_type": "markdown",
   "metadata": {},
   "source": [
    "**Por otro lado, al probar los modelos con reseñas personalizadas, se observó que los modelos fueron capaces de identificar correctamente las reseñas con opiniones claras y extremas, como las muy positivas o muy negativas. Para las reseñas más ambiguas o moderadas, algunos modelos fueron más conservadores, asignando probabilidades intermedias, lo que reflejó una menor certeza al clasificar las reseñas que no presentaban una opinión tan polarizada. Este comportamiento indica que los modelos pueden tener dificultades para manejar reseñas mixtas, lo que sugiere que la clasificación de sentimientos en reseñas moderadas o ambiguas sigue siendo un desafío.**"
   ]
  },
  {
   "cell_type": "markdown",
   "metadata": {},
   "source": [
    "**En conclusión, los resultados obtenidos demuestran que los enfoques de preprocesamiento de texto combinados con modelos de clasificación como Regresión Logística y LightGBM son altamente efectivos para clasificar reseñas de películas en términos de polaridad (positivas o negativas). Sin embargo, aún existen oportunidades para mejorar el rendimiento, especialmente al trabajar con reseñas más ambiguas o de tono mixto. Modelos más avanzados, como redes neuronales o el uso de representaciones contextuales de palabras (como BERT), podrían ser explorados para mejorar la clasificación en estos casos y lograr un desempeño aún más robusto en tareas de análisis de sentimientos en reseñas de películas.**"
   ]
  },
  {
   "cell_type": "markdown",
   "metadata": {},
   "source": [
    "# Lista de comprobación"
   ]
  },
  {
   "cell_type": "markdown",
   "metadata": {},
   "source": [
    "- [x]  Abriste el notebook\n",
    "- [x]  Cargaste y preprocesaste los datos de texto para su vectorización\n",
    "- [x]  Transformaste los datos de texto en vectores\n",
    "- [x]  Entrenaste y probaste los modelos\n",
    "- [x]  Se alcanzó el umbral de la métrica\n",
    "- [x]  Colocaste todas las celdas de código en el orden de su ejecución\n",
    "- [x]  Puedes ejecutar sin errores todas las celdas de código \n",
    "- [x]  Hay conclusiones "
   ]
  },
  {
   "cell_type": "code",
   "execution_count": null,
   "metadata": {},
   "outputs": [],
   "source": []
  }
 ],
 "metadata": {
  "ExecuteTimeLog": [
   {
    "duration": 2645,
    "start_time": "2025-02-20T05:18:26.426Z"
   },
   {
    "duration": 7,
    "start_time": "2025-02-20T05:18:41.488Z"
   },
   {
    "duration": 3,
    "start_time": "2025-02-20T05:18:51.302Z"
   },
   {
    "duration": 720,
    "start_time": "2025-02-20T05:18:59.283Z"
   },
   {
    "duration": 24,
    "start_time": "2025-02-20T05:19:58.341Z"
   },
   {
    "duration": 13,
    "start_time": "2025-02-20T05:20:14.091Z"
   },
   {
    "duration": 26,
    "start_time": "2025-02-20T05:20:56.072Z"
   },
   {
    "duration": 40,
    "start_time": "2025-02-20T05:34:03.069Z"
   },
   {
    "duration": 730,
    "start_time": "2025-02-20T05:36:01.786Z"
   },
   {
    "duration": 4,
    "start_time": "2025-02-20T05:38:00.240Z"
   },
   {
    "duration": 311,
    "start_time": "2025-02-20T05:38:12.607Z"
   },
   {
    "duration": 3761,
    "start_time": "2025-02-20T05:38:30.907Z"
   },
   {
    "duration": 148,
    "start_time": "2025-02-20T05:41:41.393Z"
   },
   {
    "duration": 2843,
    "start_time": "2025-02-21T05:43:04.039Z"
   },
   {
    "duration": 6,
    "start_time": "2025-02-21T05:43:06.885Z"
   },
   {
    "duration": 17,
    "start_time": "2025-02-21T05:43:06.893Z"
   },
   {
    "duration": 726,
    "start_time": "2025-02-21T05:43:06.912Z"
   },
   {
    "duration": 14,
    "start_time": "2025-02-21T05:43:07.639Z"
   },
   {
    "duration": 23,
    "start_time": "2025-02-21T05:43:07.654Z"
   },
   {
    "duration": 60,
    "start_time": "2025-02-21T05:43:07.679Z"
   },
   {
    "duration": 2785,
    "start_time": "2025-02-21T05:43:07.740Z"
   },
   {
    "duration": 630,
    "start_time": "2025-02-21T05:43:10.527Z"
   },
   {
    "duration": 6,
    "start_time": "2025-02-21T05:43:11.161Z"
   },
   {
    "duration": 319,
    "start_time": "2025-02-21T05:43:11.169Z"
   },
   {
    "duration": 3622,
    "start_time": "2025-02-21T05:43:11.490Z"
   },
   {
    "duration": 11,
    "start_time": "2025-02-21T05:43:15.114Z"
   },
   {
    "duration": 6,
    "start_time": "2025-02-21T05:43:15.127Z"
   },
   {
    "duration": 0,
    "start_time": "2025-02-21T05:43:15.135Z"
   },
   {
    "duration": 0,
    "start_time": "2025-02-21T05:43:15.137Z"
   },
   {
    "duration": 0,
    "start_time": "2025-02-21T05:43:15.138Z"
   },
   {
    "duration": 0,
    "start_time": "2025-02-21T05:43:15.139Z"
   },
   {
    "duration": 0,
    "start_time": "2025-02-21T05:43:15.140Z"
   },
   {
    "duration": 0,
    "start_time": "2025-02-21T05:43:15.140Z"
   },
   {
    "duration": 0,
    "start_time": "2025-02-21T05:43:15.141Z"
   },
   {
    "duration": 0,
    "start_time": "2025-02-21T05:43:15.143Z"
   },
   {
    "duration": 0,
    "start_time": "2025-02-21T05:43:15.144Z"
   },
   {
    "duration": 0,
    "start_time": "2025-02-21T05:43:15.145Z"
   },
   {
    "duration": 0,
    "start_time": "2025-02-21T05:43:15.145Z"
   },
   {
    "duration": 0,
    "start_time": "2025-02-21T05:43:15.146Z"
   },
   {
    "duration": 0,
    "start_time": "2025-02-21T05:43:15.147Z"
   },
   {
    "duration": 0,
    "start_time": "2025-02-21T05:43:15.148Z"
   },
   {
    "duration": 0,
    "start_time": "2025-02-21T05:43:15.149Z"
   },
   {
    "duration": 0,
    "start_time": "2025-02-21T05:43:15.150Z"
   },
   {
    "duration": 0,
    "start_time": "2025-02-21T05:43:15.151Z"
   },
   {
    "duration": 0,
    "start_time": "2025-02-21T05:43:15.152Z"
   },
   {
    "duration": 178273,
    "start_time": "2025-02-21T05:44:32.989Z"
   },
   {
    "duration": 1127,
    "start_time": "2025-02-21T05:47:44.430Z"
   },
   {
    "duration": 6,
    "start_time": "2025-02-21T05:47:45.560Z"
   },
   {
    "duration": 3,
    "start_time": "2025-02-21T05:47:45.568Z"
   },
   {
    "duration": 613,
    "start_time": "2025-02-21T05:47:45.573Z"
   },
   {
    "duration": 23,
    "start_time": "2025-02-21T05:47:46.187Z"
   },
   {
    "duration": 22,
    "start_time": "2025-02-21T05:47:46.212Z"
   },
   {
    "duration": 38,
    "start_time": "2025-02-21T05:47:46.235Z"
   },
   {
    "duration": 2835,
    "start_time": "2025-02-21T05:47:46.274Z"
   },
   {
    "duration": 611,
    "start_time": "2025-02-21T05:47:49.111Z"
   },
   {
    "duration": 5,
    "start_time": "2025-02-21T05:47:49.725Z"
   },
   {
    "duration": 348,
    "start_time": "2025-02-21T05:47:49.731Z"
   },
   {
    "duration": 3581,
    "start_time": "2025-02-21T05:47:50.081Z"
   },
   {
    "duration": 13,
    "start_time": "2025-02-21T05:47:53.664Z"
   },
   {
    "duration": 854471,
    "start_time": "2025-02-21T05:47:53.679Z"
   },
   {
    "duration": 5,
    "start_time": "2025-02-21T06:02:08.152Z"
   },
   {
    "duration": 0,
    "start_time": "2025-02-21T06:02:08.159Z"
   },
   {
    "duration": 0,
    "start_time": "2025-02-21T06:02:08.160Z"
   },
   {
    "duration": 0,
    "start_time": "2025-02-21T06:02:08.161Z"
   },
   {
    "duration": 0,
    "start_time": "2025-02-21T06:02:08.162Z"
   },
   {
    "duration": 0,
    "start_time": "2025-02-21T06:02:08.163Z"
   },
   {
    "duration": 0,
    "start_time": "2025-02-21T06:02:08.165Z"
   },
   {
    "duration": 0,
    "start_time": "2025-02-21T06:02:08.166Z"
   },
   {
    "duration": 0,
    "start_time": "2025-02-21T06:02:08.167Z"
   },
   {
    "duration": 0,
    "start_time": "2025-02-21T06:02:08.169Z"
   },
   {
    "duration": 0,
    "start_time": "2025-02-21T06:02:08.170Z"
   },
   {
    "duration": 0,
    "start_time": "2025-02-21T06:02:08.172Z"
   },
   {
    "duration": 0,
    "start_time": "2025-02-21T06:02:08.173Z"
   },
   {
    "duration": 0,
    "start_time": "2025-02-21T06:02:08.174Z"
   },
   {
    "duration": 0,
    "start_time": "2025-02-21T06:02:08.176Z"
   },
   {
    "duration": 0,
    "start_time": "2025-02-21T06:02:08.177Z"
   },
   {
    "duration": 0,
    "start_time": "2025-02-21T06:02:08.179Z"
   },
   {
    "duration": 0,
    "start_time": "2025-02-21T06:02:08.180Z"
   },
   {
    "duration": 27,
    "start_time": "2025-02-21T06:02:26.610Z"
   },
   {
    "duration": 2906,
    "start_time": "2025-02-25T04:51:52.356Z"
   },
   {
    "duration": 9,
    "start_time": "2025-02-25T04:51:55.264Z"
   },
   {
    "duration": 3,
    "start_time": "2025-02-25T04:51:55.275Z"
   },
   {
    "duration": 714,
    "start_time": "2025-02-25T04:51:55.280Z"
   },
   {
    "duration": 14,
    "start_time": "2025-02-25T04:51:55.995Z"
   },
   {
    "duration": 25,
    "start_time": "2025-02-25T04:51:56.011Z"
   },
   {
    "duration": 57,
    "start_time": "2025-02-25T04:51:56.038Z"
   },
   {
    "duration": 2850,
    "start_time": "2025-02-25T04:51:56.097Z"
   },
   {
    "duration": 636,
    "start_time": "2025-02-25T04:51:58.949Z"
   },
   {
    "duration": 6,
    "start_time": "2025-02-25T04:51:59.588Z"
   },
   {
    "duration": 331,
    "start_time": "2025-02-25T04:51:59.595Z"
   },
   {
    "duration": 3672,
    "start_time": "2025-02-25T04:51:59.928Z"
   },
   {
    "duration": 12,
    "start_time": "2025-02-25T04:52:03.602Z"
   },
   {
    "duration": 887289,
    "start_time": "2025-02-25T04:52:03.616Z"
   },
   {
    "duration": 5,
    "start_time": "2025-02-25T05:06:50.907Z"
   },
   {
    "duration": 1,
    "start_time": "2025-02-25T05:06:50.914Z"
   },
   {
    "duration": 0,
    "start_time": "2025-02-25T05:06:50.916Z"
   },
   {
    "duration": 0,
    "start_time": "2025-02-25T05:06:50.917Z"
   },
   {
    "duration": 0,
    "start_time": "2025-02-25T05:06:50.918Z"
   },
   {
    "duration": 0,
    "start_time": "2025-02-25T05:06:50.919Z"
   },
   {
    "duration": 0,
    "start_time": "2025-02-25T05:06:50.920Z"
   },
   {
    "duration": 0,
    "start_time": "2025-02-25T05:06:50.921Z"
   },
   {
    "duration": 0,
    "start_time": "2025-02-25T05:06:50.922Z"
   },
   {
    "duration": 0,
    "start_time": "2025-02-25T05:06:50.923Z"
   },
   {
    "duration": 0,
    "start_time": "2025-02-25T05:06:50.924Z"
   },
   {
    "duration": 0,
    "start_time": "2025-02-25T05:06:50.925Z"
   },
   {
    "duration": 0,
    "start_time": "2025-02-25T05:06:50.926Z"
   },
   {
    "duration": 0,
    "start_time": "2025-02-25T05:06:50.927Z"
   },
   {
    "duration": 0,
    "start_time": "2025-02-25T05:06:50.928Z"
   },
   {
    "duration": 0,
    "start_time": "2025-02-25T05:06:50.929Z"
   },
   {
    "duration": 0,
    "start_time": "2025-02-25T05:06:50.930Z"
   },
   {
    "duration": 0,
    "start_time": "2025-02-25T05:06:50.931Z"
   },
   {
    "duration": 27,
    "start_time": "2025-02-25T05:07:04.910Z"
   },
   {
    "duration": 4,
    "start_time": "2025-02-25T05:15:10.606Z"
   },
   {
    "duration": 3,
    "start_time": "2025-02-25T05:15:11.608Z"
   },
   {
    "duration": 6,
    "start_time": "2025-02-25T05:15:12.535Z"
   },
   {
    "duration": 620,
    "start_time": "2025-02-25T05:15:22.323Z"
   },
   {
    "duration": 3,
    "start_time": "2025-02-25T05:17:31.862Z"
   },
   {
    "duration": 1112,
    "start_time": "2025-02-25T05:33:43.023Z"
   },
   {
    "duration": 6,
    "start_time": "2025-02-25T05:33:44.138Z"
   },
   {
    "duration": 4,
    "start_time": "2025-02-25T05:33:44.145Z"
   },
   {
    "duration": 610,
    "start_time": "2025-02-25T05:33:44.150Z"
   },
   {
    "duration": 17,
    "start_time": "2025-02-25T05:33:44.764Z"
   },
   {
    "duration": 29,
    "start_time": "2025-02-25T05:33:44.783Z"
   },
   {
    "duration": 56,
    "start_time": "2025-02-25T05:33:44.814Z"
   },
   {
    "duration": 2906,
    "start_time": "2025-02-25T05:33:44.872Z"
   },
   {
    "duration": 652,
    "start_time": "2025-02-25T05:33:47.780Z"
   },
   {
    "duration": 5,
    "start_time": "2025-02-25T05:33:48.434Z"
   },
   {
    "duration": 317,
    "start_time": "2025-02-25T05:33:48.441Z"
   },
   {
    "duration": 3714,
    "start_time": "2025-02-25T05:33:48.760Z"
   },
   {
    "duration": 11,
    "start_time": "2025-02-25T05:33:52.476Z"
   },
   {
    "duration": 907417,
    "start_time": "2025-02-25T05:33:52.490Z"
   },
   {
    "duration": 29,
    "start_time": "2025-02-25T05:48:59.908Z"
   },
   {
    "duration": 3,
    "start_time": "2025-02-25T05:48:59.939Z"
   },
   {
    "duration": 3,
    "start_time": "2025-02-25T05:48:59.943Z"
   },
   {
    "duration": 24,
    "start_time": "2025-02-25T05:48:59.947Z"
   },
   {
    "duration": 530,
    "start_time": "2025-02-25T05:48:59.972Z"
   },
   {
    "duration": 3,
    "start_time": "2025-02-25T05:49:00.504Z"
   },
   {
    "duration": 425,
    "start_time": "2025-02-25T05:49:00.509Z"
   },
   {
    "duration": 0,
    "start_time": "2025-02-25T05:49:00.936Z"
   },
   {
    "duration": 0,
    "start_time": "2025-02-25T05:49:00.938Z"
   },
   {
    "duration": 0,
    "start_time": "2025-02-25T05:49:00.938Z"
   },
   {
    "duration": 0,
    "start_time": "2025-02-25T05:49:00.939Z"
   },
   {
    "duration": 0,
    "start_time": "2025-02-25T05:49:00.941Z"
   },
   {
    "duration": 0,
    "start_time": "2025-02-25T05:49:00.943Z"
   },
   {
    "duration": 0,
    "start_time": "2025-02-25T05:49:00.944Z"
   },
   {
    "duration": 0,
    "start_time": "2025-02-25T05:49:00.945Z"
   },
   {
    "duration": 0,
    "start_time": "2025-02-25T05:49:00.971Z"
   },
   {
    "duration": 0,
    "start_time": "2025-02-25T05:49:00.971Z"
   },
   {
    "duration": 0,
    "start_time": "2025-02-25T05:49:00.973Z"
   },
   {
    "duration": 0,
    "start_time": "2025-02-25T05:49:00.974Z"
   },
   {
    "duration": 0,
    "start_time": "2025-02-25T05:49:00.974Z"
   },
   {
    "duration": 0,
    "start_time": "2025-02-25T05:49:00.976Z"
   },
   {
    "duration": 0,
    "start_time": "2025-02-25T05:49:00.977Z"
   },
   {
    "duration": 0,
    "start_time": "2025-02-25T05:49:00.978Z"
   },
   {
    "duration": 11,
    "start_time": "2025-02-25T05:50:35.478Z"
   },
   {
    "duration": 15,
    "start_time": "2025-02-25T05:50:38.910Z"
   },
   {
    "duration": 3,
    "start_time": "2025-02-25T05:51:36.450Z"
   },
   {
    "duration": 28,
    "start_time": "2025-02-25T05:51:38.673Z"
   },
   {
    "duration": 3554,
    "start_time": "2025-02-25T05:53:43.404Z"
   },
   {
    "duration": 16,
    "start_time": "2025-02-25T05:54:11.510Z"
   },
   {
    "duration": 2083,
    "start_time": "2025-02-25T05:54:44.033Z"
   },
   {
    "duration": 4,
    "start_time": "2025-02-25T05:54:51.053Z"
   },
   {
    "duration": 674,
    "start_time": "2025-02-25T05:54:56.254Z"
   },
   {
    "duration": 2417,
    "start_time": "2025-02-25T06:01:16.793Z"
   },
   {
    "duration": 2,
    "start_time": "2025-02-25T06:01:22.695Z"
   },
   {
    "duration": 556218,
    "start_time": "2025-02-25T06:04:59.226Z"
   },
   {
    "duration": 281,
    "start_time": "2025-02-25T06:14:37.219Z"
   },
   {
    "duration": 3863,
    "start_time": "2025-02-25T06:14:49.526Z"
   },
   {
    "duration": 685,
    "start_time": "2025-02-25T06:14:57.246Z"
   },
   {
    "duration": 2889,
    "start_time": "2025-02-26T03:58:59.368Z"
   },
   {
    "duration": 7,
    "start_time": "2025-02-26T03:59:02.259Z"
   },
   {
    "duration": 4,
    "start_time": "2025-02-26T03:59:02.267Z"
   },
   {
    "duration": 669,
    "start_time": "2025-02-26T03:59:02.273Z"
   },
   {
    "duration": 15,
    "start_time": "2025-02-26T03:59:02.944Z"
   },
   {
    "duration": 24,
    "start_time": "2025-02-26T03:59:02.960Z"
   },
   {
    "duration": 59,
    "start_time": "2025-02-26T03:59:02.986Z"
   },
   {
    "duration": 2866,
    "start_time": "2025-02-26T03:59:03.046Z"
   },
   {
    "duration": 656,
    "start_time": "2025-02-26T03:59:05.914Z"
   },
   {
    "duration": 6,
    "start_time": "2025-02-26T03:59:06.574Z"
   },
   {
    "duration": 320,
    "start_time": "2025-02-26T03:59:06.582Z"
   },
   {
    "duration": 3733,
    "start_time": "2025-02-26T03:59:06.903Z"
   },
   {
    "duration": 13,
    "start_time": "2025-02-26T03:59:10.638Z"
   },
   {
    "duration": 875189,
    "start_time": "2025-02-26T03:59:10.652Z"
   },
   {
    "duration": 31,
    "start_time": "2025-02-26T04:13:45.843Z"
   },
   {
    "duration": 3,
    "start_time": "2025-02-26T04:13:45.876Z"
   },
   {
    "duration": 3,
    "start_time": "2025-02-26T04:13:45.881Z"
   },
   {
    "duration": 5,
    "start_time": "2025-02-26T04:13:45.886Z"
   },
   {
    "duration": 625,
    "start_time": "2025-02-26T04:13:45.892Z"
   },
   {
    "duration": 4,
    "start_time": "2025-02-26T04:13:46.524Z"
   },
   {
    "duration": 3435,
    "start_time": "2025-02-26T04:13:46.531Z"
   },
   {
    "duration": 3574,
    "start_time": "2025-02-26T04:13:49.968Z"
   },
   {
    "duration": 705,
    "start_time": "2025-02-26T04:13:53.544Z"
   },
   {
    "duration": 2307,
    "start_time": "2025-02-26T04:13:54.250Z"
   },
   {
    "duration": 2,
    "start_time": "2025-02-26T04:13:56.559Z"
   },
   {
    "duration": 489443,
    "start_time": "2025-02-26T04:13:56.563Z"
   },
   {
    "duration": 3621,
    "start_time": "2025-02-26T04:22:06.008Z"
   },
   {
    "duration": 627,
    "start_time": "2025-02-26T04:22:09.635Z"
   },
   {
    "duration": 25,
    "start_time": "2025-02-26T04:22:10.264Z"
   },
   {
    "duration": 321,
    "start_time": "2025-02-26T04:22:10.291Z"
   },
   {
    "duration": 485015,
    "start_time": "2025-02-26T04:22:10.614Z"
   },
   {
    "duration": 2717,
    "start_time": "2025-02-26T04:30:15.630Z"
   },
   {
    "duration": 28785,
    "start_time": "2025-02-26T04:30:18.349Z"
   },
   {
    "duration": 4,
    "start_time": "2025-02-26T04:30:47.136Z"
   },
   {
    "duration": 0,
    "start_time": "2025-02-26T04:30:47.142Z"
   },
   {
    "duration": 0,
    "start_time": "2025-02-26T04:30:47.144Z"
   },
   {
    "duration": 0,
    "start_time": "2025-02-26T04:30:47.145Z"
   },
   {
    "duration": 0,
    "start_time": "2025-02-26T04:30:47.147Z"
   },
   {
    "duration": 0,
    "start_time": "2025-02-26T04:30:47.148Z"
   },
   {
    "duration": 1241,
    "start_time": "2025-02-26T04:38:45.015Z"
   },
   {
    "duration": 12,
    "start_time": "2025-02-26T04:45:48.465Z"
   },
   {
    "duration": 495,
    "start_time": "2025-02-26T04:45:57.414Z"
   },
   {
    "duration": 23,
    "start_time": "2025-02-26T04:48:21.993Z"
   },
   {
    "duration": 24,
    "start_time": "2025-02-26T04:49:26.745Z"
   },
   {
    "duration": 6,
    "start_time": "2025-02-26T04:50:12.862Z"
   },
   {
    "duration": 21,
    "start_time": "2025-02-26T04:53:30.354Z"
   },
   {
    "duration": 22,
    "start_time": "2025-02-26T04:58:43.974Z"
   }
  ],
  "kernelspec": {
   "display_name": "base",
   "language": "python",
   "name": "python3"
  },
  "language_info": {
   "codemirror_mode": {
    "name": "ipython",
    "version": 3
   },
   "file_extension": ".py",
   "mimetype": "text/x-python",
   "name": "python",
   "nbconvert_exporter": "python",
   "pygments_lexer": "ipython3",
   "version": "3.12.7"
  },
  "toc": {
   "base_numbering": 1,
   "nav_menu": {},
   "number_sections": true,
   "sideBar": true,
   "skip_h1_title": true,
   "title_cell": "Table of Contents",
   "title_sidebar": "Contents",
   "toc_cell": false,
   "toc_position": {},
   "toc_section_display": true,
   "toc_window_display": false
  }
 },
 "nbformat": 4,
 "nbformat_minor": 4
}
